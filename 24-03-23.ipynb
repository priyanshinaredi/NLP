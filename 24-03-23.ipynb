{
 "cells": [
  {
   "cell_type": "code",
   "execution_count": 1,
   "metadata": {},
   "outputs": [
    {
     "name": "stdout",
     "output_type": "stream",
     "text": [
      "Collecting indic\n",
      "  Downloading indic-0.1.2.tar.gz (6.3 kB)\n",
      "Requirement already satisfied: numpy>=1.7 in d:\\ds\\lib\\site-packages (from indic) (1.20.3)\n",
      "Requirement already satisfied: pandas>=0.12 in d:\\ds\\lib\\site-packages (from indic) (1.3.4)\n",
      "Requirement already satisfied: matplotlib>=1.3 in d:\\ds\\lib\\site-packages (from indic) (3.5.1)\n",
      "Requirement already satisfied: scikit-learn>=0.13 in d:\\ds\\lib\\site-packages (from indic) (0.24.2)\n",
      "Requirement already satisfied: scipy>=0.13 in d:\\ds\\lib\\site-packages (from indic) (1.7.1)\n",
      "Requirement already satisfied: kiwisolver>=1.0.1 in d:\\ds\\lib\\site-packages (from matplotlib>=1.3->indic) (1.3.1)\n",
      "Requirement already satisfied: pyparsing>=2.2.1 in d:\\ds\\lib\\site-packages (from matplotlib>=1.3->indic) (3.0.4)\n",
      "Requirement already satisfied: pillow>=6.2.0 in d:\\ds\\lib\\site-packages (from matplotlib>=1.3->indic) (8.4.0)\n",
      "Requirement already satisfied: python-dateutil>=2.7 in d:\\ds\\lib\\site-packages (from matplotlib>=1.3->indic) (2.8.2)\n",
      "Requirement already satisfied: cycler>=0.10 in d:\\ds\\lib\\site-packages (from matplotlib>=1.3->indic) (0.10.0)\n",
      "Requirement already satisfied: fonttools>=4.22.0 in d:\\ds\\lib\\site-packages (from matplotlib>=1.3->indic) (4.25.0)\n",
      "Requirement already satisfied: packaging>=20.0 in d:\\ds\\lib\\site-packages (from matplotlib>=1.3->indic) (21.0)\n",
      "Requirement already satisfied: six in d:\\ds\\lib\\site-packages (from cycler>=0.10->matplotlib>=1.3->indic) (1.16.0)\n",
      "Requirement already satisfied: pytz>=2017.3 in d:\\ds\\lib\\site-packages (from pandas>=0.12->indic) (2021.3)\n",
      "Requirement already satisfied: joblib>=0.11 in d:\\ds\\lib\\site-packages (from scikit-learn>=0.13->indic) (1.1.0)\n",
      "Requirement already satisfied: threadpoolctl>=2.0.0 in d:\\ds\\lib\\site-packages (from scikit-learn>=0.13->indic) (2.2.0)\n",
      "Building wheels for collected packages: indic\n",
      "  Building wheel for indic (setup.py): started\n",
      "  Building wheel for indic (setup.py): finished with status 'done'\n",
      "  Created wheel for indic: filename=indic-0.1.2-py3-none-any.whl size=10090 sha256=c2fa6480d98a29d2997fbfbd6fcc9a430e09b32cf5f73ebb9e5bbf8f250f0ca8\n",
      "  Stored in directory: c:\\users\\hp\\appdata\\local\\pip\\cache\\wheels\\99\\46\\ae\\5111371e0c7d7160c689f9f6cee321acd45a4e32d4c419dd4a\n",
      "Successfully built indic\n",
      "Installing collected packages: indic\n",
      "Successfully installed indic-0.1.2\n",
      "Note: you may need to restart the kernel to use updated packages.\n"
     ]
    },
    {
     "name": "stderr",
     "output_type": "stream",
     "text": [
      "WARNING: Ignoring invalid distribution -atplotlib (d:\\ds\\lib\\site-packages)\n",
      "WARNING: Ignoring invalid distribution -atplotlib (d:\\ds\\lib\\site-packages)\n",
      "WARNING: Ignoring invalid distribution -atplotlib (d:\\ds\\lib\\site-packages)\n",
      "WARNING: Ignoring invalid distribution -atplotlib (d:\\ds\\lib\\site-packages)\n",
      "WARNING: Ignoring invalid distribution -atplotlib (d:\\ds\\lib\\site-packages)\n",
      "WARNING: Ignoring invalid distribution -atplotlib (d:\\ds\\lib\\site-packages)\n",
      "WARNING: Ignoring invalid distribution -atplotlib (d:\\ds\\lib\\site-packages)\n"
     ]
    }
   ],
   "source": [
    "pip install indic\n"
   ]
  },
  {
   "cell_type": "code",
   "execution_count": 2,
   "metadata": {},
   "outputs": [
    {
     "name": "stdout",
     "output_type": "stream",
     "text": [
      "Requirement already satisfied: spacy in d:\\ds\\lib\\site-packages (3.5.1)\n",
      "Requirement already satisfied: preshed<3.1.0,>=3.0.2 in d:\\ds\\lib\\site-packages (from spacy) (3.0.8)\n",
      "Requirement already satisfied: requests<3.0.0,>=2.13.0 in d:\\ds\\lib\\site-packages (from spacy) (2.26.0)\n",
      "Requirement already satisfied: thinc<8.2.0,>=8.1.8 in d:\\ds\\lib\\site-packages (from spacy) (8.1.9)\n",
      "Requirement already satisfied: srsly<3.0.0,>=2.4.3 in d:\\ds\\lib\\site-packages (from spacy) (2.4.6)\n",
      "Requirement already satisfied: langcodes<4.0.0,>=3.2.0 in d:\\ds\\lib\\site-packages (from spacy) (3.3.0)\n",
      "Requirement already satisfied: packaging>=20.0 in d:\\ds\\lib\\site-packages (from spacy) (21.0)\n",
      "Requirement already satisfied: smart-open<7.0.0,>=5.2.1 in d:\\ds\\lib\\site-packages (from spacy) (6.3.0)\n",
      "Requirement already satisfied: pydantic!=1.8,!=1.8.1,<1.11.0,>=1.7.4 in d:\\ds\\lib\\site-packages (from spacy) (1.10.7)\n",
      "Requirement already satisfied: setuptools in d:\\ds\\lib\\site-packages (from spacy) (58.0.4)\n",
      "Requirement already satisfied: spacy-legacy<3.1.0,>=3.0.11 in d:\\ds\\lib\\site-packages (from spacy) (3.0.12)\n",
      "Requirement already satisfied: cymem<2.1.0,>=2.0.2 in d:\\ds\\lib\\site-packages (from spacy) (2.0.7)\n",
      "Requirement already satisfied: jinja2 in d:\\ds\\lib\\site-packages (from spacy) (2.11.3)\n",
      "Requirement already satisfied: murmurhash<1.1.0,>=0.28.0 in d:\\ds\\lib\\site-packages (from spacy) (1.0.9)\n",
      "Requirement already satisfied: numpy>=1.15.0 in d:\\ds\\lib\\site-packages (from spacy) (1.20.3)\n",
      "Requirement already satisfied: spacy-loggers<2.0.0,>=1.0.0 in d:\\ds\\lib\\site-packages (from spacy) (1.0.4)\n",
      "Note: you may need to restart the kernel to use updated packages.\n"
     ]
    },
    {
     "name": "stderr",
     "output_type": "stream",
     "text": [
      "WARNING: Ignoring invalid distribution -atplotlib (d:\\ds\\lib\\site-packages)\n",
      "WARNING: Ignoring invalid distribution -atplotlib (d:\\ds\\lib\\site-packages)\n",
      "WARNING: Ignoring invalid distribution -atplotlib (d:\\ds\\lib\\site-packages)\n",
      "WARNING: Ignoring invalid distribution -atplotlib (d:\\ds\\lib\\site-packages)\n",
      "WARNING: Ignoring invalid distribution -atplotlib (d:\\ds\\lib\\site-packages)\n",
      "WARNING: Ignoring invalid distribution -atplotlib (d:\\ds\\lib\\site-packages)\n"
     ]
    },
    {
     "name": "stdout",
     "output_type": "stream",
     "text": [
      "Requirement already satisfied: wasabi<1.2.0,>=0.9.1 in d:\\ds\\lib\\site-packages (from spacy) (1.1.1)\n",
      "Requirement already satisfied: pathy>=0.10.0 in d:\\ds\\lib\\site-packages (from spacy) (0.10.1)\n",
      "Requirement already satisfied: typer<0.8.0,>=0.3.0 in d:\\ds\\lib\\site-packages (from spacy) (0.7.0)\n",
      "Requirement already satisfied: catalogue<2.1.0,>=2.0.6 in d:\\ds\\lib\\site-packages (from spacy) (2.0.8)\n",
      "Requirement already satisfied: tqdm<5.0.0,>=4.38.0 in d:\\ds\\lib\\site-packages (from spacy) (4.62.3)\n",
      "Requirement already satisfied: pyparsing>=2.0.2 in d:\\ds\\lib\\site-packages (from packaging>=20.0->spacy) (3.0.4)\n",
      "Requirement already satisfied: typing-extensions>=4.2.0 in d:\\ds\\lib\\site-packages (from pydantic!=1.8,!=1.8.1,<1.11.0,>=1.7.4->spacy) (4.5.0)\n",
      "Requirement already satisfied: idna<4,>=2.5 in d:\\ds\\lib\\site-packages (from requests<3.0.0,>=2.13.0->spacy) (3.2)\n",
      "Requirement already satisfied: certifi>=2017.4.17 in d:\\ds\\lib\\site-packages (from requests<3.0.0,>=2.13.0->spacy) (2021.10.8)\n",
      "Requirement already satisfied: charset-normalizer~=2.0.0 in d:\\ds\\lib\\site-packages (from requests<3.0.0,>=2.13.0->spacy) (2.0.4)\n",
      "Requirement already satisfied: urllib3<1.27,>=1.21.1 in d:\\ds\\lib\\site-packages (from requests<3.0.0,>=2.13.0->spacy) (1.26.7)\n",
      "Requirement already satisfied: confection<1.0.0,>=0.0.1 in d:\\ds\\lib\\site-packages (from thinc<8.2.0,>=8.1.8->spacy) (0.0.4)\n",
      "Requirement already satisfied: blis<0.8.0,>=0.7.8 in d:\\ds\\lib\\site-packages (from thinc<8.2.0,>=8.1.8->spacy) (0.7.9)\n",
      "Requirement already satisfied: colorama in d:\\ds\\lib\\site-packages (from tqdm<5.0.0,>=4.38.0->spacy) (0.4.6)\n",
      "Requirement already satisfied: click<9.0.0,>=7.1.1 in d:\\ds\\lib\\site-packages (from typer<0.8.0,>=0.3.0->spacy) (8.0.3)\n",
      "Requirement already satisfied: MarkupSafe>=0.23 in d:\\ds\\lib\\site-packages (from jinja2->spacy) (1.1.1)\n"
     ]
    }
   ],
   "source": [
    "pip install spacy"
   ]
  },
  {
   "cell_type": "code",
   "execution_count": 7,
   "metadata": {},
   "outputs": [
    {
     "ename": "OSError",
     "evalue": "[E050] Can't find model 'en_core_web_sm'. It doesn't seem to be a Python package or a valid path to a data directory.",
     "output_type": "error",
     "traceback": [
      "\u001b[1;31m---------------------------------------------------------------------------\u001b[0m",
      "\u001b[1;31mOSError\u001b[0m                                   Traceback (most recent call last)",
      "\u001b[1;32m~\\AppData\\Local\\Temp/ipykernel_13940/2161087484.py\u001b[0m in \u001b[0;36m<module>\u001b[1;34m\u001b[0m\n\u001b[0;32m      1\u001b[0m \u001b[1;32mimport\u001b[0m \u001b[0mspacy\u001b[0m\u001b[1;33m\u001b[0m\u001b[1;33m\u001b[0m\u001b[0m\n\u001b[1;32m----> 2\u001b[1;33m \u001b[0mm\u001b[0m\u001b[1;33m=\u001b[0m\u001b[0mspacy\u001b[0m\u001b[1;33m.\u001b[0m\u001b[0mload\u001b[0m\u001b[1;33m(\u001b[0m\u001b[1;34m'en_core_web_sm'\u001b[0m\u001b[1;33m)\u001b[0m\u001b[1;33m\u001b[0m\u001b[1;33m\u001b[0m\u001b[0m\n\u001b[0m",
      "\u001b[1;32md:\\DS\\lib\\site-packages\\spacy\\__init__.py\u001b[0m in \u001b[0;36mload\u001b[1;34m(name, vocab, disable, enable, exclude, config)\u001b[0m\n\u001b[0;32m     52\u001b[0m     \u001b[0mRETURNS\u001b[0m \u001b[1;33m(\u001b[0m\u001b[0mLanguage\u001b[0m\u001b[1;33m)\u001b[0m\u001b[1;33m:\u001b[0m \u001b[0mThe\u001b[0m \u001b[0mloaded\u001b[0m \u001b[0mnlp\u001b[0m \u001b[0mobject\u001b[0m\u001b[1;33m.\u001b[0m\u001b[1;33m\u001b[0m\u001b[1;33m\u001b[0m\u001b[0m\n\u001b[0;32m     53\u001b[0m     \"\"\"\n\u001b[1;32m---> 54\u001b[1;33m     return util.load_model(\n\u001b[0m\u001b[0;32m     55\u001b[0m         \u001b[0mname\u001b[0m\u001b[1;33m,\u001b[0m\u001b[1;33m\u001b[0m\u001b[1;33m\u001b[0m\u001b[0m\n\u001b[0;32m     56\u001b[0m         \u001b[0mvocab\u001b[0m\u001b[1;33m=\u001b[0m\u001b[0mvocab\u001b[0m\u001b[1;33m,\u001b[0m\u001b[1;33m\u001b[0m\u001b[1;33m\u001b[0m\u001b[0m\n",
      "\u001b[1;32md:\\DS\\lib\\site-packages\\spacy\\util.py\u001b[0m in \u001b[0;36mload_model\u001b[1;34m(name, vocab, disable, enable, exclude, config)\u001b[0m\n\u001b[0;32m    447\u001b[0m     \u001b[1;32mif\u001b[0m \u001b[0mname\u001b[0m \u001b[1;32min\u001b[0m \u001b[0mOLD_MODEL_SHORTCUTS\u001b[0m\u001b[1;33m:\u001b[0m\u001b[1;33m\u001b[0m\u001b[1;33m\u001b[0m\u001b[0m\n\u001b[0;32m    448\u001b[0m         \u001b[1;32mraise\u001b[0m \u001b[0mIOError\u001b[0m\u001b[1;33m(\u001b[0m\u001b[0mErrors\u001b[0m\u001b[1;33m.\u001b[0m\u001b[0mE941\u001b[0m\u001b[1;33m.\u001b[0m\u001b[0mformat\u001b[0m\u001b[1;33m(\u001b[0m\u001b[0mname\u001b[0m\u001b[1;33m=\u001b[0m\u001b[0mname\u001b[0m\u001b[1;33m,\u001b[0m \u001b[0mfull\u001b[0m\u001b[1;33m=\u001b[0m\u001b[0mOLD_MODEL_SHORTCUTS\u001b[0m\u001b[1;33m[\u001b[0m\u001b[0mname\u001b[0m\u001b[1;33m]\u001b[0m\u001b[1;33m)\u001b[0m\u001b[1;33m)\u001b[0m  \u001b[1;31m# type: ignore[index]\u001b[0m\u001b[1;33m\u001b[0m\u001b[1;33m\u001b[0m\u001b[0m\n\u001b[1;32m--> 449\u001b[1;33m     \u001b[1;32mraise\u001b[0m \u001b[0mIOError\u001b[0m\u001b[1;33m(\u001b[0m\u001b[0mErrors\u001b[0m\u001b[1;33m.\u001b[0m\u001b[0mE050\u001b[0m\u001b[1;33m.\u001b[0m\u001b[0mformat\u001b[0m\u001b[1;33m(\u001b[0m\u001b[0mname\u001b[0m\u001b[1;33m=\u001b[0m\u001b[0mname\u001b[0m\u001b[1;33m)\u001b[0m\u001b[1;33m)\u001b[0m\u001b[1;33m\u001b[0m\u001b[1;33m\u001b[0m\u001b[0m\n\u001b[0m\u001b[0;32m    450\u001b[0m \u001b[1;33m\u001b[0m\u001b[0m\n\u001b[0;32m    451\u001b[0m \u001b[1;33m\u001b[0m\u001b[0m\n",
      "\u001b[1;31mOSError\u001b[0m: [E050] Can't find model 'en_core_web_sm'. It doesn't seem to be a Python package or a valid path to a data directory."
     ]
    }
   ],
   "source": [
    "import spacy\n",
    "m=spacy.load('en_core_web_sm')"
   ]
  },
  {
   "cell_type": "code",
   "execution_count": 9,
   "metadata": {},
   "outputs": [],
   "source": [
    "import pandas as pd\n",
    "df= pd.read_csv(\"IMDB Dataset.csv\")"
   ]
  },
  {
   "cell_type": "code",
   "execution_count": 10,
   "metadata": {},
   "outputs": [],
   "source": [
    "import nltk"
   ]
  },
  {
   "cell_type": "code",
   "execution_count": 15,
   "metadata": {},
   "outputs": [],
   "source": [
    "\n",
    "\n",
    "grammar=\"NP:{<DT>?<JJ>*<NN>}\""
   ]
  },
  {
   "cell_type": "code",
   "execution_count": 16,
   "metadata": {},
   "outputs": [],
   "source": [
    "cp=nltk.RegexpParser(grammar)"
   ]
  },
  {
   "cell_type": "code",
   "execution_count": null,
   "metadata": {},
   "outputs": [],
   "source": [
    "tags=nltk.pos_tag()"
   ]
  },
  {
   "cell_type": "code",
   "execution_count": 25,
   "metadata": {},
   "outputs": [],
   "source": [
    "line=[(\"the\",\"DT\"),(\"little\",\"JJ\"),(\"yellow\",\"JJ\"),(\"dog\",\"NN\"),(\"barked\",\"VBD\"),(\"at\",\"IN\"),(\"the\",\"DT\"),(\"cat\",\"NN\")]"
   ]
  },
  {
   "cell_type": "code",
   "execution_count": 26,
   "metadata": {},
   "outputs": [],
   "source": [
    "result=cp.parse(line)"
   ]
  },
  {
   "cell_type": "code",
   "execution_count": 27,
   "metadata": {},
   "outputs": [
    {
     "name": "stdout",
     "output_type": "stream",
     "text": [
      "(S\n",
      "  (NP the/DT little/JJ yellow/JJ dog/NN)\n",
      "  barked/VBD\n",
      "  at/IN\n",
      "  (NP the/DT cat/NN))\n"
     ]
    }
   ],
   "source": [
    "print(result)"
   ]
  },
  {
   "cell_type": "code",
   "execution_count": 28,
   "metadata": {},
   "outputs": [],
   "source": [
    "result.draw()"
   ]
  },
  {
   "cell_type": "code",
   "execution_count": null,
   "metadata": {},
   "outputs": [],
   "source": []
  }
 ],
 "metadata": {
  "kernelspec": {
   "display_name": "base",
   "language": "python",
   "name": "python3"
  },
  "language_info": {
   "codemirror_mode": {
    "name": "ipython",
    "version": 3
   },
   "file_extension": ".py",
   "mimetype": "text/x-python",
   "name": "python",
   "nbconvert_exporter": "python",
   "pygments_lexer": "ipython3",
   "version": "3.9.7"
  },
  "orig_nbformat": 4
 },
 "nbformat": 4,
 "nbformat_minor": 2
}
